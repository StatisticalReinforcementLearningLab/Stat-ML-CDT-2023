{
 "cells": [
  {
   "cell_type": "markdown",
   "id": "33e8029f",
   "metadata": {},
   "source": [
    "# Checking Python Installation\n",
    "The following code can be used to check python package installation in preparation for the CDT course."
   ]
  },
  {
   "cell_type": "code",
   "execution_count": 1,
   "id": "6a64b146",
   "metadata": {},
   "outputs": [],
   "source": [
    "import numpy\n",
    "import scipy\n",
    "import pandas\n",
    "import sklearn"
   ]
  },
  {
   "cell_type": "markdown",
   "id": "0ab5d364",
   "metadata": {},
   "source": [
    "## Checking versions of packages\n",
    "Make sure Numpy version is at least 1.18.5 and Scipy version is at least 1.9.0"
   ]
  },
  {
   "cell_type": "code",
   "execution_count": 2,
   "id": "0b4036dc",
   "metadata": {},
   "outputs": [
    {
     "name": "stdout",
     "output_type": "stream",
     "text": [
      "Numpy version 1.25.0\n",
      "Scipy version 1.10.1\n"
     ]
    }
   ],
   "source": [
    "print(\"Numpy version\", numpy.__version__)\n",
    "print(\"Scipy version\", scipy.__version__)"
   ]
  },
  {
   "cell_type": "code",
   "execution_count": null,
   "id": "a2ec8c73",
   "metadata": {},
   "outputs": [],
   "source": []
  }
 ],
 "metadata": {
  "kernelspec": {
   "display_name": "Python 3 (ipykernel)",
   "language": "python",
   "name": "python3"
  },
  "language_info": {
   "codemirror_mode": {
    "name": "ipython",
    "version": 3
   },
   "file_extension": ".py",
   "mimetype": "text/x-python",
   "name": "python",
   "nbconvert_exporter": "python",
   "pygments_lexer": "ipython3",
   "version": "3.9.17"
  }
 },
 "nbformat": 4,
 "nbformat_minor": 5
}
